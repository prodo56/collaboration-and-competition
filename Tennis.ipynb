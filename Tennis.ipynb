{
 "cells": [
  {
   "cell_type": "markdown",
   "metadata": {},
   "source": [
    "# Collaboration and Competition\n",
    "\n",
    "---\n",
    "\n",
    "You are welcome to use this coding environment to train your agent for the project.  Follow the instructions below to get started!\n",
    "\n",
    "### 1. Start the Environment\n",
    "\n",
    "Run the next code cell to install a few packages.  This line will take a few minutes to run!"
   ]
  },
  {
   "cell_type": "code",
   "execution_count": 1,
   "metadata": {},
   "outputs": [
    {
     "name": "stdout",
     "output_type": "stream",
     "text": [
      "  % Total    % Received % Xferd  Average Speed   Time    Time     Time  Current\n",
      "                                 Dload  Upload   Total   Spent    Left  Speed\n",
      "100  1554  100  1554    0     0   6532      0 --:--:-- --:--:-- --:--:--  7435\n"
     ]
    }
   ],
   "source": [
    "!curl -O https://raw.githubusercontent.com/udacity/workspaces-student-support/master/jupyter/workspace_utils.py"
   ]
  },
  {
   "cell_type": "code",
   "execution_count": 2,
   "metadata": {},
   "outputs": [
    {
     "name": "stdout",
     "output_type": "stream",
     "text": [
      "\u001b[31mtensorflow 1.7.1 has requirement numpy>=1.13.3, but you'll have numpy 1.12.1 which is incompatible.\u001b[0m\r\n",
      "\u001b[31mipython 6.5.0 has requirement prompt-toolkit<2.0.0,>=1.0.15, but you'll have prompt-toolkit 2.0.10 which is incompatible.\u001b[0m\r\n"
     ]
    }
   ],
   "source": [
    "!pip -q install ./python"
   ]
  },
  {
   "cell_type": "markdown",
   "metadata": {},
   "source": [
    "The environment is already saved in the Workspace and can be accessed at the file path provided below. "
   ]
  },
  {
   "cell_type": "code",
   "execution_count": 3,
   "metadata": {},
   "outputs": [
    {
     "name": "stderr",
     "output_type": "stream",
     "text": [
      "INFO:unityagents:\n",
      "'Academy' started successfully!\n",
      "Unity Academy name: Academy\n",
      "        Number of Brains: 1\n",
      "        Number of External Brains : 1\n",
      "        Lesson number : 0\n",
      "        Reset Parameters :\n",
      "\t\t\n",
      "Unity brain name: TennisBrain\n",
      "        Number of Visual Observations (per agent): 0\n",
      "        Vector Observation space type: continuous\n",
      "        Vector Observation space size (per agent): 8\n",
      "        Number of stacked Vector Observation: 3\n",
      "        Vector Action space type: continuous\n",
      "        Vector Action space size (per agent): 2\n",
      "        Vector Action descriptions: , \n"
     ]
    }
   ],
   "source": [
    "from unityagents import UnityEnvironment\n",
    "import numpy as np\n",
    "\n",
    "env = UnityEnvironment(file_name=\"/data/Tennis_Linux_NoVis/Tennis\")"
   ]
  },
  {
   "cell_type": "markdown",
   "metadata": {},
   "source": [
    "Environments contain **_brains_** which are responsible for deciding the actions of their associated agents. Here we check for the first brain available, and set it as the default brain we will be controlling from Python."
   ]
  },
  {
   "cell_type": "code",
   "execution_count": 4,
   "metadata": {},
   "outputs": [],
   "source": [
    "# get the default brain\n",
    "brain_name = env.brain_names[0]\n",
    "brain = env.brains[brain_name]"
   ]
  },
  {
   "cell_type": "markdown",
   "metadata": {},
   "source": [
    "### 2. Examine the State and Action Spaces\n",
    "\n",
    "Run the code cell below to print some information about the environment."
   ]
  },
  {
   "cell_type": "code",
   "execution_count": 5,
   "metadata": {},
   "outputs": [
    {
     "name": "stdout",
     "output_type": "stream",
     "text": [
      "Number of agents: 2\n",
      "Size of each action: 2\n",
      "There are 2 agents. Each observes a state with length: 24\n",
      "The state for the first agent looks like: [ 0.          0.          0.          0.          0.          0.          0.\n",
      "  0.          0.          0.          0.          0.          0.          0.\n",
      "  0.          0.         -6.65278625 -1.5        -0.          0.\n",
      "  6.83172083  6.         -0.          0.        ]\n"
     ]
    }
   ],
   "source": [
    "# reset the environment\n",
    "env_info = env.reset(train_mode=True)[brain_name]\n",
    "\n",
    "# number of agents \n",
    "num_agents = len(env_info.agents)\n",
    "print('Number of agents:', num_agents)\n",
    "\n",
    "# size of each action\n",
    "action_size = brain.vector_action_space_size\n",
    "print('Size of each action:', action_size)\n",
    "\n",
    "# examine the state space \n",
    "states = env_info.vector_observations\n",
    "state_size = states.shape[1]\n",
    "print('There are {} agents. Each observes a state with length: {}'.format(states.shape[0], state_size))\n",
    "print('The state for the first agent looks like:', states[0])"
   ]
  },
  {
   "cell_type": "markdown",
   "metadata": {},
   "source": [
    "### 3. Take Random Actions in the Environment\n",
    "\n",
    "In the next code cell, you will learn how to use the Python API to control the agent and receive feedback from the environment.\n",
    "\n",
    "Note that **in this coding environment, you will not be able to watch the agents while they are training**, and you should set `train_mode=True` to restart the environment."
   ]
  },
  {
   "cell_type": "code",
   "execution_count": 6,
   "metadata": {},
   "outputs": [
    {
     "name": "stdout",
     "output_type": "stream",
     "text": [
      "Total score (averaged over agents) this episode: -0.004999999888241291\n",
      "Total score (averaged over agents) this episode: -0.004999999888241291\n",
      "Total score (averaged over agents) this episode: -0.004999999888241291\n",
      "Total score (averaged over agents) this episode: 0.04500000085681677\n",
      "Total score (averaged over agents) this episode: 0.09500000160187483\n"
     ]
    }
   ],
   "source": [
    "for i in range(5):                                         # play game for 5 episodes\n",
    "    env_info = env.reset(train_mode=False)[brain_name]     # reset the environment    \n",
    "    states = env_info.vector_observations                  # get the current state (for each agent)\n",
    "    scores = np.zeros(num_agents)                          # initialize the score (for each agent)\n",
    "    while True:\n",
    "        actions = np.random.randn(num_agents, action_size) # select an action (for each agent)\n",
    "        actions = np.clip(actions, -1, 1)                  # all actions between -1 and 1\n",
    "        env_info = env.step(actions)[brain_name]           # send all actions to tne environment\n",
    "        next_states = env_info.vector_observations         # get next state (for each agent)\n",
    "        rewards = env_info.rewards                         # get reward (for each agent)\n",
    "        dones = env_info.local_done                        # see if episode finished\n",
    "        scores += env_info.rewards                         # update the score (for each agent)\n",
    "        states = next_states                               # roll over states to next time step\n",
    "        if np.any(dones):                                  # exit loop if episode finished\n",
    "            break\n",
    "    print('Total score (averaged over agents) this episode: {}'.format(np.mean(scores)))"
   ]
  },
  {
   "cell_type": "markdown",
   "metadata": {},
   "source": [
    "When finished, you can close the environment."
   ]
  },
  {
   "cell_type": "code",
   "execution_count": 7,
   "metadata": {},
   "outputs": [],
   "source": [
    "# env.close()"
   ]
  },
  {
   "cell_type": "markdown",
   "metadata": {},
   "source": [
    "### 4. It's Your Turn!\n",
    "\n",
    "Now it's your turn to train your own agent to solve the environment!  A few **important notes**:\n",
    "- When training the environment, set `train_mode=True`, so that the line for resetting the environment looks like the following:\n",
    "```python\n",
    "env_info = env.reset(train_mode=True)[brain_name]\n",
    "```\n",
    "- To structure your work, you're welcome to work directly in this Jupyter notebook, or you might like to start over with a new file!  You can see the list of files in the workspace by clicking on **_Jupyter_** in the top left corner of the notebook.\n",
    "- In this coding environment, you will not be able to watch the agents while they are training.  However, **_after training the agents_**, you can download the saved model weights to watch the agents on your own machine! "
   ]
  },
  {
   "cell_type": "code",
   "execution_count": 8,
   "metadata": {},
   "outputs": [],
   "source": [
    "from maddpg import Agent\n",
    "from collections import deque\n",
    "import matplotlib.pyplot as plt\n",
    "import torch\n",
    "\n",
    "%matplotlib inline"
   ]
  },
  {
   "cell_type": "code",
   "execution_count": 9,
   "metadata": {},
   "outputs": [],
   "source": [
    "def ddpg(n_episodes=3000, print_every=5, train_mode=True,score_req=0.5):\n",
    "    \"\"\"\n",
    "    DDPG : Deep Deterministic Policy Gradient\n",
    "    \n",
    "    Params:\n",
    "        n_episodes (int)      : maximum number of training episodes\n",
    "        train_mode (bool)     : If executing in Train mode\n",
    "        print_every (int)     : display results interval\n",
    "\n",
    "    \"\"\"\n",
    "    scores_avg = deque(maxlen=100)  # mean scores from most recent episodes\n",
    "    all_scores=[]\n",
    "\n",
    "    \n",
    "    for i_episode in range(1, n_episodes+1):\n",
    "        env_info = env.reset(train_mode=train_mode)[brain_name] # reset environment\n",
    "        states = env_info.vector_observations                   # get current state for each agent      \n",
    "        scores = np.zeros(num_agents)                           # initialize score for each agent\n",
    "        agent1.reset()\n",
    "        agent2.reset()\n",
    "        while True:\n",
    "            actions1 = agent1.act(np.expand_dims(states[0], axis=0), add_noise=True)         # select an action\n",
    "            actions2 = agent2.act(np.expand_dims(states[1], axis=0), add_noise=True)         # select an action\n",
    "            actions = np.concatenate((actions1, actions2), axis=0).flatten()\n",
    "            env_info = env.step(actions)[brain_name]            # send actions to environment\n",
    "            next_states = env_info.vector_observations # get next state\n",
    "            rewards = env_info.rewards                          # get reward\n",
    "            dones = env_info.local_done                         # see if episode has finished  \n",
    "            agent1.step(np.expand_dims(states[0], axis=0), actions[:2], rewards[0], np.expand_dims(next_states[0], axis=0), dones[0]) # agent 1 learns\n",
    "            agent2.step(np.expand_dims(states[1], axis=0), actions[2:], rewards[1], np.expand_dims(next_states[1], axis=0), dones[1]) # agent 2 learns\n",
    "            states = next_states\n",
    "            scores += np.max(rewards)        \n",
    "            if np.any(dones):                                   \n",
    "                break\n",
    "\n",
    "        scores_avg.append(np.max(scores))    # save moving average\n",
    "        all_scores.append(np.max(scores))\n",
    "                \n",
    "        if i_episode % print_every == 0:\n",
    "            print('\\rEpisode {} Avg Score: {:.5f}'.format(i_episode, np.mean(scores_avg)))\n",
    "                  \n",
    "        if np.mean(scores_avg)>=score_req and i_episode >= 100:\n",
    "            print('\\nSOLVED in {} episodes!\\tWith an average score: {:.5f} over last 100 episodes'.format(\\\n",
    "                                    i_episode, np.mean(scores_avg)))            \n",
    "            if train_mode:\n",
    "#                 torch.save(agent.actor_local.state_dict(), 'checkpoint_actor.pth')\n",
    "#                 torch.save(agent.critic_local.state_dict(), 'checkpoint_critic.pth') \n",
    "                torch.save(agent1.actor_local.state_dict(), 'checkpoint_actor1.pth')\n",
    "                torch.save(agent1.critic_local.state_dict(), 'checkpoint_critic1.pth')\n",
    "                torch.save(agent2.actor_local.state_dict(), 'checkpoint_actor2.pth')\n",
    "                torch.save(agent2.critic_local.state_dict(), 'checkpoint_critic2.pth')\n",
    "            break\n",
    "            \n",
    "    return all_scores,scores_avg"
   ]
  },
  {
   "cell_type": "code",
   "execution_count": 10,
   "metadata": {},
   "outputs": [],
   "source": [
    "# initialize agents\n",
    "agent1 = Agent(state_size, action_size,1, random_seed=0)\n",
    "agent2 = Agent(state_size, action_size,1, random_seed=0)"
   ]
  },
  {
   "cell_type": "code",
   "execution_count": 11,
   "metadata": {},
   "outputs": [
    {
     "name": "stdout",
     "output_type": "stream",
     "text": [
      "Episode 5 Avg Score: 0.04000\n",
      "Episode 10 Avg Score: 0.02000\n",
      "Episode 15 Avg Score: 0.01333\n",
      "Episode 20 Avg Score: 0.01000\n",
      "Episode 25 Avg Score: 0.00800\n",
      "Episode 30 Avg Score: 0.01333\n",
      "Episode 35 Avg Score: 0.02000\n",
      "Episode 40 Avg Score: 0.02250\n",
      "Episode 45 Avg Score: 0.03111\n",
      "Episode 50 Avg Score: 0.03600\n",
      "Episode 55 Avg Score: 0.03818\n",
      "Episode 60 Avg Score: 0.04167\n",
      "Episode 65 Avg Score: 0.04000\n",
      "Episode 70 Avg Score: 0.04000\n",
      "Episode 75 Avg Score: 0.04267\n",
      "Episode 80 Avg Score: 0.04125\n",
      "Episode 85 Avg Score: 0.04353\n",
      "Episode 90 Avg Score: 0.04556\n",
      "Episode 95 Avg Score: 0.04526\n",
      "Episode 100 Avg Score: 0.04600\n",
      "Episode 105 Avg Score: 0.04700\n",
      "Episode 110 Avg Score: 0.05000\n",
      "Episode 115 Avg Score: 0.05690\n",
      "Episode 120 Avg Score: 0.06090\n",
      "Episode 125 Avg Score: 0.06490\n",
      "Episode 130 Avg Score: 0.06890\n",
      "Episode 135 Avg Score: 0.07190\n",
      "Episode 140 Avg Score: 0.07490\n",
      "Episode 145 Avg Score: 0.07590\n",
      "Episode 150 Avg Score: 0.07890\n",
      "Episode 155 Avg Score: 0.08490\n",
      "Episode 160 Avg Score: 0.09190\n",
      "Episode 165 Avg Score: 0.09690\n",
      "Episode 170 Avg Score: 0.10280\n",
      "Episode 175 Avg Score: 0.10580\n",
      "Episode 180 Avg Score: 0.10980\n",
      "Episode 185 Avg Score: 0.11480\n",
      "Episode 190 Avg Score: 0.12180\n",
      "Episode 195 Avg Score: 0.12780\n",
      "Episode 200 Avg Score: 0.13080\n",
      "Episode 205 Avg Score: 0.13580\n",
      "Episode 210 Avg Score: 0.14380\n",
      "Episode 215 Avg Score: 0.14390\n",
      "Episode 220 Avg Score: 0.14580\n",
      "Episode 225 Avg Score: 0.14980\n",
      "Episode 230 Avg Score: 0.15380\n",
      "Episode 235 Avg Score: 0.15580\n",
      "Episode 240 Avg Score: 0.15780\n",
      "Episode 245 Avg Score: 0.16080\n",
      "Episode 250 Avg Score: 0.16480\n",
      "Episode 255 Avg Score: 0.16980\n",
      "Episode 260 Avg Score: 0.16680\n",
      "Episode 265 Avg Score: 0.17280\n",
      "Episode 270 Avg Score: 0.17690\n",
      "Episode 275 Avg Score: 0.17790\n",
      "Episode 280 Avg Score: 0.17990\n",
      "Episode 285 Avg Score: 0.18590\n",
      "Episode 290 Avg Score: 0.18890\n",
      "Episode 295 Avg Score: 0.19190\n",
      "Episode 300 Avg Score: 0.19980\n",
      "Episode 305 Avg Score: 0.20080\n",
      "Episode 310 Avg Score: 0.20880\n",
      "Episode 315 Avg Score: 0.22080\n",
      "Episode 320 Avg Score: 0.22290\n",
      "Episode 325 Avg Score: 0.22290\n",
      "Episode 330 Avg Score: 0.22780\n",
      "Episode 335 Avg Score: 0.22680\n",
      "Episode 340 Avg Score: 0.23280\n",
      "Episode 345 Avg Score: 0.24380\n",
      "Episode 350 Avg Score: 0.26680\n",
      "Episode 355 Avg Score: 0.28870\n",
      "Episode 360 Avg Score: 0.29470\n",
      "Episode 365 Avg Score: 0.30770\n",
      "Episode 370 Avg Score: 0.34670\n",
      "Episode 375 Avg Score: 0.40070\n",
      "Episode 380 Avg Score: 0.42970\n",
      "Episode 385 Avg Score: 0.45170\n",
      "Episode 390 Avg Score: 0.46270\n",
      "Episode 395 Avg Score: 0.47970\n",
      "\n",
      "SOLVED in 396 episodes!\tWith an average score: 0.50570 over last 100 episodes\n"
     ]
    }
   ],
   "source": [
    "from workspace_utils import active_session\n",
    "\n",
    "with active_session():\n",
    "    scores, avgs = ddpg()"
   ]
  },
  {
   "cell_type": "code",
   "execution_count": 12,
   "metadata": {},
   "outputs": [
    {
     "data": {
      "image/png": "[encoded data removed]",
      "text/plain": [
       "<matplotlib.figure.Figure at 0x7f87f424e7b8>"
      ]
     },
     "metadata": {
      "needs_background": "light"
     },
     "output_type": "display_data"
    }
   ],
   "source": [
    "fig = plt.figure()\n",
    "ax = fig.add_subplot(111)\n",
    "plt.plot(np.arange(len(scores)), scores, label='DDPG')\n",
    "plt.ylabel('Score')\n",
    "plt.xlabel('Episode')\n",
    "plt.legend(loc='upper right');\n",
    "plt.show()"
   ]
  },
  {
   "cell_type": "code",
   "execution_count": 13,
   "metadata": {},
   "outputs": [],
   "source": [
    "# !tar chvfz tennis.tar.gz *"
   ]
  },
  {
   "cell_type": "code",
   "execution_count": null,
   "metadata": {},
   "outputs": [],
   "source": []
  }
 ],
 "metadata": {
  "kernelspec": {
   "display_name": "Python 3",
   "language": "python",
   "name": "python3"
  },
  "language_info": {
   "codemirror_mode": {
    "name": "ipython",
    "version": 3
   },
   "file_extension": ".py",
   "mimetype": "text/x-python",
   "name": "python",
   "nbconvert_exporter": "python",
   "pygments_lexer": "ipython3",
   "version": "3.6.3"
  }
 },
 "nbformat": 4,
 "nbformat_minor": 2
}
